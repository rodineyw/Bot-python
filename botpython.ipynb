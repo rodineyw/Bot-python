{
 "cells": [
  {
   "cell_type": "code",
   "execution_count": 24,
   "metadata": {},
   "outputs": [],
   "source": [
    "# importando as duas Bibliotecas:\n",
    "import pyautogui as pa\n",
    "import time\n",
    "\n",
    "\n",
    "time.sleep(1)\n",
    "pa.press(\"win\")\n",
    "time.sleep(1)\n",
    "pa.write(\"chrome\")\n",
    "time.sleep(4)\n",
    "pa.press(\"enter\")\n",
    "time.sleep(5)\n",
    "pa.write(\"https://outlook.com/login\")\n",
    "time.sleep(1)\n",
    "pa.press(\"enter\")\n",
    "time.sleep(4)\n",
    "pa.write(\"rodineywan@outlook.com\")\n",
    "time.sleep(3)\n",
    "pa.press(\"enter\")\n",
    "time.sleep(4)\n",
    "\n",
    "# Caso não tenha a senha salva. \n",
    "#pa.write(\"*********\")\n",
    "#time.sleep(3)\n",
    "#pa.press(\"enter\")\n",
    "\n",
    "pa.click(x=131, y=191)\n",
    "time.sleep(2)\n",
    "pa.write(\"rodineyw@yahoo.com.br\")\n",
    "time.sleep(1)\n",
    "pa.press(\"enter\")\n",
    "time.sleep(1)\n",
    "pa.press(\"tab\")\n",
    "time.sleep(1)\n",
    "pa.write(\"Rodiney Wanderson\")\n",
    "time.sleep(1)\n",
    "pa.press(\"tab\")\n",
    "pa.write(\"\"\"\n",
    "Temos informações importantes.\n",
    "\"\"\")\n",
    "time.sleep(3)\n",
    "pa.click(x=449, y=255)\n"
   ]
  },
  {
   "cell_type": "code",
   "execution_count": 16,
   "metadata": {},
   "outputs": [
    {
     "data": {
      "text/plain": [
       "Point(x=449, y=255)"
      ]
     },
     "execution_count": 16,
     "metadata": {},
     "output_type": "execute_result"
    }
   ],
   "source": [
    "time.sleep(4)\n",
    "pa.position()"
   ]
  }
 ],
 "metadata": {
  "kernelspec": {
   "display_name": "Python 3",
   "language": "python",
   "name": "python3"
  },
  "language_info": {
   "codemirror_mode": {
    "name": "ipython",
    "version": 3
   },
   "file_extension": ".py",
   "mimetype": "text/x-python",
   "name": "python",
   "nbconvert_exporter": "python",
   "pygments_lexer": "ipython3",
   "version": "3.11.5"
  },
  "orig_nbformat": 4
 },
 "nbformat": 4,
 "nbformat_minor": 2
}
